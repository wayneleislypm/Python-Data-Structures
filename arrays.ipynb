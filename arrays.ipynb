{
 "cells": [
  {
   "cell_type": "code",
   "execution_count": 15,
   "metadata": {},
   "outputs": [
    {
     "name": "stdout",
     "output_type": "stream",
     "text": [
      "1\n",
      "array('d', [4.5, 6.7, 6.0, 5.0])\n"
     ]
    }
   ],
   "source": [
    "from array import array\n",
    "doubles = array('d',[4.5,6.7,6,5])\n",
    "print(doubles.count(4.5))\n",
    "print(doubles)"
   ]
  },
  {
   "cell_type": "code",
   "execution_count": 19,
   "metadata": {},
   "outputs": [
    {
     "name": "stdout",
     "output_type": "stream",
     "text": [
      "array('d', [4.5, 6.7, 6.0, 5.0, 6.0, 9.0, 0.0, 6.0, 9.0, 0.0])\n"
     ]
    }
   ],
   "source": [
    "\n",
    "doubles.extend([6,9,0])\n",
    "print(doubles)"
   ]
  },
  {
   "cell_type": "code",
   "execution_count": 64,
   "metadata": {},
   "outputs": [
    {
     "name": "stdout",
     "output_type": "stream",
     "text": [
      "array('u', 'helloki♁')\n",
      "array('i', [399, 6, 5, 6])\n"
     ]
    }
   ],
   "source": [
    "s=[6,8,0,7,8]\n",
    "string=array('u','helloki\\u2641')\n",
    "print(string)\n",
    "i=array('i',[399,int(5.7),6])\n",
    "i.insert(1,6)\n",
    "print(i)"
   ]
  },
  {
   "cell_type": "code",
   "execution_count": null,
   "metadata": {},
   "outputs": [],
   "source": []
  },
  {
   "cell_type": "code",
   "execution_count": null,
   "metadata": {},
   "outputs": [],
   "source": []
  }
 ],
 "metadata": {
  "kernelspec": {
   "display_name": "Python 3",
   "language": "python",
   "name": "python3"
  },
  "language_info": {
   "codemirror_mode": {
    "name": "ipython",
    "version": 3
   },
   "file_extension": ".py",
   "mimetype": "text/x-python",
   "name": "python",
   "nbconvert_exporter": "python",
   "pygments_lexer": "ipython3",
   "version": "3.8.3"
  }
 },
 "nbformat": 4,
 "nbformat_minor": 4
}
