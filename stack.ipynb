{
 "cells": [
  {
   "cell_type": "code",
   "execution_count": 14,
   "metadata": {},
   "outputs": [
    {
     "name": "stdout",
     "output_type": "stream",
     "text": [
      "[9, 'demo']\n",
      "[9]\n",
      "[9, 89, 'mbeu']\n",
      "mbeu\n",
      "False\n",
      "[9, 89, 'mbeu']\n",
      "[9, 89]\n"
     ]
    }
   ],
   "source": [
    "class Stack:\n",
    "    def __init__(self):\n",
    "        self.stack = []\n",
    "        \n",
    "    def pop(self):\n",
    "        self.stack.pop()\n",
    "        \n",
    "    def push(self, e):\n",
    "        self.stack.append(e)\n",
    "        \n",
    "    def peak(self):\n",
    "        print(self.stack[len(self.stack)-1])\n",
    "    \n",
    "    def empty(self):\n",
    "        if (self.stack == 0):\n",
    "            return True\n",
    "        return False\n",
    "    \n",
    "    def show(self):\n",
    "        print(self.stack)\n",
    "        \n",
    "s = Stack()\n",
    "s.push(9)\n",
    "s.push('demo')\n",
    "s.show()\n",
    "s.pop()\n",
    "s.show()\n",
    "s.push(89)\n",
    "s.push('mbeu')\n",
    "s.show()\n",
    "s.peak()\n",
    "print(s.empty())\n",
    "s.show()\n",
    "s.pop()\n",
    "s.show()"
   ]
  },
  {
   "cell_type": "code",
   "execution_count": null,
   "metadata": {},
   "outputs": [],
   "source": []
  }
 ],
 "metadata": {
  "kernelspec": {
   "display_name": "Python 3",
   "language": "python",
   "name": "python3"
  },
  "language_info": {
   "codemirror_mode": {
    "name": "ipython",
    "version": 3
   },
   "file_extension": ".py",
   "mimetype": "text/x-python",
   "name": "python",
   "nbconvert_exporter": "python",
   "pygments_lexer": "ipython3",
   "version": "3.8.3"
  }
 },
 "nbformat": 4,
 "nbformat_minor": 4
}
