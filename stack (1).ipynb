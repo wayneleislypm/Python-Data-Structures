{
 "cells": [
  {
   "cell_type": "code",
   "execution_count": 15,
   "metadata": {},
   "outputs": [
    {
     "name": "stdout",
     "output_type": "stream",
     "text": [
      "True\n"
     ]
    }
   ],
   "source": [
    "class Stack:\n",
    "    def __init__(self):\n",
    "        self.stack = []\n",
    "        \n",
    "    def len(self):\n",
    "        return len(self.stack)\n",
    "    \n",
    "    def isEmpty(self):\n",
    "        return len(self.stack)==0\n",
    "    \n",
    "    def push(self,e):\n",
    "        self.stack.append(e)\n",
    "        \n",
    "    def pop(self):\n",
    "        if self.isEmpty():\n",
    "            print('stack is empty')\n",
    "        else:\n",
    "            return self.stack.pop()\n",
    "            \n",
    "    def peek(self):\n",
    "        return self.stack[-1]\n",
    "    \n",
    "    def show(self):\n",
    "        print (self.stack)\n",
    "        \n",
    "s=Stack()\n",
    "        \n",
    "def balance_check(htmlTag):\n",
    "    for tag in htmlTag:\n",
    "        if tag == '<>':\n",
    "            s.push(tag)\n",
    "        else:\n",
    "            s.pop()\n",
    "    return s.isEmpty()\n",
    "print(balance_check(['<>','<>','</>','</>']))               \n",
    "\n",
    "    \n"
   ]
  },
  {
   "cell_type": "code",
   "execution_count": null,
   "metadata": {},
   "outputs": [],
   "source": []
  },
  {
   "cell_type": "code",
   "execution_count": null,
   "metadata": {},
   "outputs": [],
   "source": []
  }
 ],
 "metadata": {
  "kernelspec": {
   "display_name": "Python 3",
   "language": "python",
   "name": "python3"
  },
  "language_info": {
   "codemirror_mode": {
    "name": "ipython",
    "version": 3
   },
   "file_extension": ".py",
   "mimetype": "text/x-python",
   "name": "python",
   "nbconvert_exporter": "python",
   "pygments_lexer": "ipython3",
   "version": "3.8.3"
  }
 },
 "nbformat": 4,
 "nbformat_minor": 4
}
