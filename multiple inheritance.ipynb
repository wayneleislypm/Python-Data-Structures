{
 "cells": [
  {
   "cell_type": "markdown",
   "metadata": {},
   "source": [
    "# Multiple Inheritance"
   ]
  },
  {
   "cell_type": "code",
   "execution_count": 6,
   "metadata": {},
   "outputs": [
    {
     "name": "stdout",
     "output_type": "stream",
     "text": [
      "Name : Anne Mabika\n",
      "ID Number : 15-24708Z90\n",
      "Gender : Female\n",
      "Address : 34 Harare\n",
      "Phone Number : 0719077455\n",
      "EC is : 12345A\n",
      "Secretary name is : Milca\n"
     ]
    }
   ],
   "source": [
    "class Employee:\n",
    "    def __init__(self,ec):\n",
    "        self.ec = ec\n",
    "        \n",
    "    def show(self):\n",
    "        print('EC is : %s'%self.ec)\n",
    "        \n",
    "class Member:\n",
    "    def __init__(self,name, idNumber, gender, address, phoneNumber):\n",
    "        self.name = name\n",
    "        self.idNumber = idNumber\n",
    "        self.gender = gender\n",
    "        self.address = address\n",
    "        self.phoneNumber = phoneNumber\n",
    "        \n",
    "    def show(self):\n",
    "        print(\"Name : %s\"%self.name)\n",
    "        print(\"ID Number : %s\"%self.idNumber)\n",
    "        print(\"Gender : %s\"%self.gender)\n",
    "        print(\"Address : %s\"%self.address)\n",
    "        print(\"Phone Number : %s\"%self.phoneNumber)\n",
    "        \n",
    "class ExecutiveMember(Member, Employee):\n",
    "    def __init__(self, name, idNumber, gender, address, phoneNumber, ec, secretary):\n",
    "        Member.__init__(self, name, idNumber, gender, address, phoneNumber)\n",
    "        Employee.__init__(self, ec)\n",
    "        self.secretary = secretary\n",
    "        \n",
    "    def show(self):\n",
    "        Member.show(self)\n",
    "        Employee.show(self)\n",
    "        print('Secretary name is : %s'%self.secretary)\n",
    "        \n",
    "em = ExecutiveMember('Anne Mabika','15-24708Z90','Female','34 Harare','0719077455','12345A', 'Milca')\n",
    "em.show()"
   ]
  },
  {
   "cell_type": "code",
   "execution_count": null,
   "metadata": {},
   "outputs": [],
   "source": []
  }
 ],
 "metadata": {
  "kernelspec": {
   "display_name": "Python 3",
   "language": "python",
   "name": "python3"
  },
  "language_info": {
   "codemirror_mode": {
    "name": "ipython",
    "version": 3
   },
   "file_extension": ".py",
   "mimetype": "text/x-python",
   "name": "python",
   "nbconvert_exporter": "python",
   "pygments_lexer": "ipython3",
   "version": "3.8.3"
  }
 },
 "nbformat": 4,
 "nbformat_minor": 4
}
