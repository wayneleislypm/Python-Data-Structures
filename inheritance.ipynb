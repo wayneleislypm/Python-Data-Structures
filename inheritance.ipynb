{
 "cells": [
  {
   "cell_type": "markdown",
   "metadata": {},
   "source": [
    "# INHERITANCE"
   ]
  },
  {
   "cell_type": "code",
   "execution_count": 3,
   "metadata": {},
   "outputs": [
    {
     "name": "stdout",
     "output_type": "stream",
     "text": [
      "Initialized Teacher : Mr Madzudzo\n",
      "Initialized Student : Panashe\n",
      "Name : Mr Madzudzo \n",
      "Age : 34\n",
      "Salary : 2500\n",
      "Name : Panashe \n",
      "Age : 22\n",
      "Mark : 95\n"
     ]
    }
   ],
   "source": [
    "class SchoolMember:\n",
    "    '''Represents any school member'''\n",
    "    def __init__(self, name, age):\n",
    "        self.name = name\n",
    "        self.age = age\n",
    "        \n",
    "    def tell(self):\n",
    "        '''Tell my details'''\n",
    "        print('Name : %s \\nAge : %d'%(self.name, self.age))\n",
    "\n",
    "class Teacher(SchoolMember):\n",
    "    '''Represents a Teacher'''\n",
    "    def __init__(self, name, age, salary):\n",
    "        SchoolMember.__init__(self, name, age)\n",
    "        self.salary = salary\n",
    "        print('Initialized Teacher : %s'%self.name)\n",
    "        \n",
    "    def tell(self):\n",
    "        SchoolMember.tell(self)\n",
    "        print('Salary : %d'%self.salary)\n",
    "        \n",
    "class Student(SchoolMember):\n",
    "    '''Represents a Student'''\n",
    "    def __init__(self, name, age, mark):\n",
    "        SchoolMember.__init__(self, name, age)\n",
    "        self.mark = mark\n",
    "        print('Initialized Student : %s'%self.name)\n",
    "        \n",
    "    def tell(self):\n",
    "        SchoolMember.tell(self)\n",
    "        print('Mark : %d'%self.mark)\n",
    "        \n",
    "        \n",
    "    \n",
    "t = Teacher('Mr Madzudzo', 34, 2500)\n",
    "s = Student('Panashe', 22, 95)\n",
    "members=[t,s]\n",
    "for member in members:\n",
    "    member.tell()\n",
    "    \n",
    "    \n",
    "               "
   ]
  },
  {
   "cell_type": "code",
   "execution_count": null,
   "metadata": {},
   "outputs": [],
   "source": []
  }
 ],
 "metadata": {
  "kernelspec": {
   "display_name": "Python 3",
   "language": "python",
   "name": "python3"
  },
  "language_info": {
   "codemirror_mode": {
    "name": "ipython",
    "version": 3
   },
   "file_extension": ".py",
   "mimetype": "text/x-python",
   "name": "python",
   "nbconvert_exporter": "python",
   "pygments_lexer": "ipython3",
   "version": "3.8.3"
  }
 },
 "nbformat": 4,
 "nbformat_minor": 4
}
