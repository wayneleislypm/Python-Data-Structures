{
 "cells": [
  {
   "cell_type": "code",
   "execution_count": 8,
   "metadata": {},
   "outputs": [
    {
     "name": "stdout",
     "output_type": "stream",
     "text": [
      "Name : Panashe Madzudzo\n",
      "ID Number : 15-24708Z90\n",
      "Gender : Male\n",
      "Address : 34 Harare\n",
      "Phone Number : 0719077455\n"
     ]
    }
   ],
   "source": [
    "class Member:\n",
    "    def __init__(self,name, idNumber, gender, address, phoneNumber):\n",
    "        self.name = name\n",
    "        self.idNumber = idNumber\n",
    "        self.gender = gender\n",
    "        self.address = address\n",
    "        self.phoneNumber = phoneNumber\n",
    "        \n",
    "    def show(self):\n",
    "        print(\"Name : %s\"%self.name)\n",
    "        print(\"ID Number : %s\"%self.idNumber)\n",
    "        print(\"Gender : %s\"%self.gender)\n",
    "        print(\"Address : %s\"%self.address)\n",
    "        print(\"Phone Number : %s\"%self.phoneNumber)\n",
    "        \n",
    "        \n",
    "m = Member('Panashe Madzudzo','15-24708Z90','Male','34 Harare','0719077455')\n",
    "m.show()"
   ]
  },
  {
   "cell_type": "code",
   "execution_count": 12,
   "metadata": {},
   "outputs": [
    {
     "name": "stdout",
     "output_type": "stream",
     "text": [
      "Name : Panashe Madzudzo\n",
      "ID Number : 15-24708Z90\n",
      "Gender : Male\n",
      "Address : 34 Harare\n",
      "Phone Number : 0719077455\n",
      "Monthly Allowance : 900.00\n",
      "Car Reg : 568ut\n"
     ]
    }
   ],
   "source": [
    "class OrdinaryMember(Member):\n",
    "     def __init__(self,name, idNumber, gender, address, phoneNumber, allowance, carReg):\n",
    "        Member.__init__(self, name, idNumber, gender, address, phoneNumber)\n",
    "        self.allowance = allowance\n",
    "        self.carReg = carReg\n",
    "        \n",
    "     def show(self):\n",
    "        Member.show(self)\n",
    "        print(\"Monthly Allowance : %.2f\"%self.allowance)\n",
    "        print(\"Car Reg : %s\"%self.carReg)\n",
    "        \n",
    "        \n",
    "om = OrdinaryMember('Panashe Madzudzo','15-24708Z90','Male','34 Harare','0719077455', 900, '568ut')\n",
    "om.show()"
   ]
  },
  {
   "cell_type": "code",
   "execution_count": null,
   "metadata": {},
   "outputs": [],
   "source": []
  }
 ],
 "metadata": {
  "kernelspec": {
   "display_name": "Python 3",
   "language": "python",
   "name": "python3"
  },
  "language_info": {
   "codemirror_mode": {
    "name": "ipython",
    "version": 3
   },
   "file_extension": ".py",
   "mimetype": "text/x-python",
   "name": "python",
   "nbconvert_exporter": "python",
   "pygments_lexer": "ipython3",
   "version": "3.8.3"
  }
 },
 "nbformat": 4,
 "nbformat_minor": 4
}
