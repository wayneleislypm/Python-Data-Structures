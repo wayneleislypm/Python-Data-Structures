{
 "cells": [
  {
   "cell_type": "code",
   "execution_count": 7,
   "metadata": {},
   "outputs": [
    {
     "name": "stdout",
     "output_type": "stream",
     "text": [
      "showing list data: \n",
      "<__main__.SingleList.Node object at 0x05F81B68> ->\n",
      "None\n",
      "<__main__.SingleList.Node object at 0x05F81940> ->\n",
      "None\n",
      "<__main__.SingleList.Node object at 0x05F819D0> ->\n",
      "None\n",
      "None\n"
     ]
    }
   ],
   "source": [
    "class SingleList:\n",
    "    class Node(object):\n",
    "        def __init__(self,data,next):\n",
    "            self.data = data\n",
    "            self.next = next\n",
    "            \n",
    "    def __init__(self):\n",
    "        self.head = None\n",
    "        self.tail = None\n",
    "            \n",
    "    def show(self):\n",
    "        print('showing list data: ')\n",
    "        current_node = self.head\n",
    "        while current_node is not None:\n",
    "            print(current_node,'->')\n",
    "            current_node = current_node.next\n",
    "            print(None)\n",
    "                \n",
    "    def insert(self, data):\n",
    "        if self.head == None:\n",
    "            self.head = self.Node(data, None)\n",
    "            self.tail = self.head\n",
    "        elif self.tail == self.head:\n",
    "            self.tail = self.Node(data, None)\n",
    "            self.head.next = self.tail\n",
    "        else:\n",
    "            current = self.Node(data, None)\n",
    "            self.tail.next = current\n",
    "            self.tail = current\n",
    "                \n",
    "    def remove(self, node_value):\n",
    "        current_node = self.head\n",
    "        previous_node = None\n",
    "        while current_node is not None:\n",
    "            if current_node.data == node_value:\n",
    "                if previous_node is not None:\n",
    "                    previous_node.next = current_node.next\n",
    "                else:\n",
    "                    self.head = current_node.next\n",
    "            previous_node = current_node\n",
    "            current_node = current_node.next\n",
    "                \n",
    "    def search(self, k):\n",
    "        p = self.head\n",
    "        if p != None:\n",
    "            while p.next != None:\n",
    "                if p.data == k:\n",
    "                    return True \n",
    "                p = p.next\n",
    "                if (p.data == k):\n",
    "                    return True\n",
    "            return False\n",
    "        \n",
    "s = SingleList()\n",
    "s.insert(31)\n",
    "s.insert(2)\n",
    "s.insert(3)\n",
    "print(s.show())\n",
    "                "
   ]
  },
  {
   "cell_type": "code",
   "execution_count": null,
   "metadata": {},
   "outputs": [],
   "source": []
  }
 ],
 "metadata": {
  "kernelspec": {
   "display_name": "Python 3",
   "language": "python",
   "name": "python3"
  },
  "language_info": {
   "codemirror_mode": {
    "name": "ipython",
    "version": 3
   },
   "file_extension": ".py",
   "mimetype": "text/x-python",
   "name": "python",
   "nbconvert_exporter": "python",
   "pygments_lexer": "ipython3",
   "version": "3.8.3"
  }
 },
 "nbformat": 4,
 "nbformat_minor": 4
}
